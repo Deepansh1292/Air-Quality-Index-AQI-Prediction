{
  "nbformat": 4,
  "nbformat_minor": 0,
  "metadata": {
    "colab": {
      "provenance": []
    },
    "kernelspec": {
      "name": "python3",
      "display_name": "Python 3"
    },
    "language_info": {
      "name": "python"
    }
  },
  "cells": [
    {
      "cell_type": "code",
      "execution_count": null,
      "metadata": {
        "colab": {
          "base_uri": "https://localhost:8080/"
        },
        "id": "jEty4__9JCZh",
        "outputId": "c53ae8fb-4161-4650-f248-776c15685000"
      },
      "outputs": [
        {
          "output_type": "stream",
          "name": "stdout",
          "text": [
            "Requirement already satisfied: numpy in /usr/local/lib/python3.11/dist-packages (2.0.2)\n",
            "Requirement already satisfied: pandas in /usr/local/lib/python3.11/dist-packages (2.2.2)\n",
            "Requirement already satisfied: matplotlib in /usr/local/lib/python3.11/dist-packages (3.10.0)\n",
            "Requirement already satisfied: seaborn in /usr/local/lib/python3.11/dist-packages (0.13.2)\n",
            "Requirement already satisfied: scikit-learn in /usr/local/lib/python3.11/dist-packages (1.6.1)\n",
            "Requirement already satisfied: keras in /usr/local/lib/python3.11/dist-packages (3.8.0)\n",
            "Collecting keras-tuner\n",
            "  Downloading keras_tuner-1.4.7-py3-none-any.whl.metadata (5.4 kB)\n",
            "Requirement already satisfied: tensorflow in /usr/local/lib/python3.11/dist-packages (2.18.0)\n",
            "Collecting keras-self-attention\n",
            "  Downloading keras-self-attention-0.51.0.tar.gz (11 kB)\n",
            "  Preparing metadata (setup.py) ... \u001b[?25l\u001b[?25hdone\n",
            "Requirement already satisfied: python-dateutil>=2.8.2 in /usr/local/lib/python3.11/dist-packages (from pandas) (2.9.0.post0)\n",
            "Requirement already satisfied: pytz>=2020.1 in /usr/local/lib/python3.11/dist-packages (from pandas) (2025.2)\n",
            "Requirement already satisfied: tzdata>=2022.7 in /usr/local/lib/python3.11/dist-packages (from pandas) (2025.2)\n",
            "Requirement already satisfied: contourpy>=1.0.1 in /usr/local/lib/python3.11/dist-packages (from matplotlib) (1.3.2)\n",
            "Requirement already satisfied: cycler>=0.10 in /usr/local/lib/python3.11/dist-packages (from matplotlib) (0.12.1)\n",
            "Requirement already satisfied: fonttools>=4.22.0 in /usr/local/lib/python3.11/dist-packages (from matplotlib) (4.58.4)\n",
            "Requirement already satisfied: kiwisolver>=1.3.1 in /usr/local/lib/python3.11/dist-packages (from matplotlib) (1.4.8)\n",
            "Requirement already satisfied: packaging>=20.0 in /usr/local/lib/python3.11/dist-packages (from matplotlib) (24.2)\n",
            "Requirement already satisfied: pillow>=8 in /usr/local/lib/python3.11/dist-packages (from matplotlib) (11.2.1)\n",
            "Requirement already satisfied: pyparsing>=2.3.1 in /usr/local/lib/python3.11/dist-packages (from matplotlib) (3.2.3)\n",
            "Requirement already satisfied: scipy>=1.6.0 in /usr/local/lib/python3.11/dist-packages (from scikit-learn) (1.15.3)\n",
            "Requirement already satisfied: joblib>=1.2.0 in /usr/local/lib/python3.11/dist-packages (from scikit-learn) (1.5.1)\n",
            "Requirement already satisfied: threadpoolctl>=3.1.0 in /usr/local/lib/python3.11/dist-packages (from scikit-learn) (3.6.0)\n",
            "Requirement already satisfied: absl-py in /usr/local/lib/python3.11/dist-packages (from keras) (1.4.0)\n",
            "Requirement already satisfied: rich in /usr/local/lib/python3.11/dist-packages (from keras) (13.9.4)\n",
            "Requirement already satisfied: namex in /usr/local/lib/python3.11/dist-packages (from keras) (0.1.0)\n",
            "Requirement already satisfied: h5py in /usr/local/lib/python3.11/dist-packages (from keras) (3.14.0)\n",
            "Requirement already satisfied: optree in /usr/local/lib/python3.11/dist-packages (from keras) (0.16.0)\n",
            "Requirement already satisfied: ml-dtypes in /usr/local/lib/python3.11/dist-packages (from keras) (0.4.1)\n",
            "Requirement already satisfied: requests in /usr/local/lib/python3.11/dist-packages (from keras-tuner) (2.32.3)\n",
            "Collecting kt-legacy (from keras-tuner)\n",
            "  Downloading kt_legacy-1.0.5-py3-none-any.whl.metadata (221 bytes)\n",
            "Requirement already satisfied: astunparse>=1.6.0 in /usr/local/lib/python3.11/dist-packages (from tensorflow) (1.6.3)\n",
            "Requirement already satisfied: flatbuffers>=24.3.25 in /usr/local/lib/python3.11/dist-packages (from tensorflow) (25.2.10)\n",
            "Requirement already satisfied: gast!=0.5.0,!=0.5.1,!=0.5.2,>=0.2.1 in /usr/local/lib/python3.11/dist-packages (from tensorflow) (0.6.0)\n",
            "Requirement already satisfied: google-pasta>=0.1.1 in /usr/local/lib/python3.11/dist-packages (from tensorflow) (0.2.0)\n",
            "Requirement already satisfied: libclang>=13.0.0 in /usr/local/lib/python3.11/dist-packages (from tensorflow) (18.1.1)\n",
            "Requirement already satisfied: opt-einsum>=2.3.2 in /usr/local/lib/python3.11/dist-packages (from tensorflow) (3.4.0)\n",
            "Requirement already satisfied: protobuf!=4.21.0,!=4.21.1,!=4.21.2,!=4.21.3,!=4.21.4,!=4.21.5,<6.0.0dev,>=3.20.3 in /usr/local/lib/python3.11/dist-packages (from tensorflow) (5.29.5)\n",
            "Requirement already satisfied: setuptools in /usr/local/lib/python3.11/dist-packages (from tensorflow) (75.2.0)\n",
            "Requirement already satisfied: six>=1.12.0 in /usr/local/lib/python3.11/dist-packages (from tensorflow) (1.17.0)\n",
            "Requirement already satisfied: termcolor>=1.1.0 in /usr/local/lib/python3.11/dist-packages (from tensorflow) (3.1.0)\n",
            "Requirement already satisfied: typing-extensions>=3.6.6 in /usr/local/lib/python3.11/dist-packages (from tensorflow) (4.14.0)\n",
            "Requirement already satisfied: wrapt>=1.11.0 in /usr/local/lib/python3.11/dist-packages (from tensorflow) (1.17.2)\n",
            "Requirement already satisfied: grpcio<2.0,>=1.24.3 in /usr/local/lib/python3.11/dist-packages (from tensorflow) (1.73.1)\n",
            "Requirement already satisfied: tensorboard<2.19,>=2.18 in /usr/local/lib/python3.11/dist-packages (from tensorflow) (2.18.0)\n",
            "Requirement already satisfied: tensorflow-io-gcs-filesystem>=0.23.1 in /usr/local/lib/python3.11/dist-packages (from tensorflow) (0.37.1)\n",
            "Requirement already satisfied: wheel<1.0,>=0.23.0 in /usr/local/lib/python3.11/dist-packages (from astunparse>=1.6.0->tensorflow) (0.45.1)\n",
            "Requirement already satisfied: charset-normalizer<4,>=2 in /usr/local/lib/python3.11/dist-packages (from requests->keras-tuner) (3.4.2)\n",
            "Requirement already satisfied: idna<4,>=2.5 in /usr/local/lib/python3.11/dist-packages (from requests->keras-tuner) (3.10)\n",
            "Requirement already satisfied: urllib3<3,>=1.21.1 in /usr/local/lib/python3.11/dist-packages (from requests->keras-tuner) (2.4.0)\n",
            "Requirement already satisfied: certifi>=2017.4.17 in /usr/local/lib/python3.11/dist-packages (from requests->keras-tuner) (2025.6.15)\n",
            "Requirement already satisfied: markdown>=2.6.8 in /usr/local/lib/python3.11/dist-packages (from tensorboard<2.19,>=2.18->tensorflow) (3.8.2)\n",
            "Requirement already satisfied: tensorboard-data-server<0.8.0,>=0.7.0 in /usr/local/lib/python3.11/dist-packages (from tensorboard<2.19,>=2.18->tensorflow) (0.7.2)\n",
            "Requirement already satisfied: werkzeug>=1.0.1 in /usr/local/lib/python3.11/dist-packages (from tensorboard<2.19,>=2.18->tensorflow) (3.1.3)\n",
            "Requirement already satisfied: markdown-it-py>=2.2.0 in /usr/local/lib/python3.11/dist-packages (from rich->keras) (3.0.0)\n",
            "Requirement already satisfied: pygments<3.0.0,>=2.13.0 in /usr/local/lib/python3.11/dist-packages (from rich->keras) (2.19.2)\n",
            "Requirement already satisfied: mdurl~=0.1 in /usr/local/lib/python3.11/dist-packages (from markdown-it-py>=2.2.0->rich->keras) (0.1.2)\n",
            "Requirement already satisfied: MarkupSafe>=2.1.1 in /usr/local/lib/python3.11/dist-packages (from werkzeug>=1.0.1->tensorboard<2.19,>=2.18->tensorflow) (3.0.2)\n",
            "Downloading keras_tuner-1.4.7-py3-none-any.whl (129 kB)\n",
            "\u001b[2K   \u001b[90m━━━━━━━━━━━━━━━━━━━━━━━━━━━━━━━━━━━━━━━━\u001b[0m \u001b[32m129.1/129.1 kB\u001b[0m \u001b[31m3.3 MB/s\u001b[0m eta \u001b[36m0:00:00\u001b[0m\n",
            "\u001b[?25hDownloading kt_legacy-1.0.5-py3-none-any.whl (9.6 kB)\n",
            "Building wheels for collected packages: keras-self-attention\n",
            "  Building wheel for keras-self-attention (setup.py) ... \u001b[?25l\u001b[?25hdone\n",
            "  Created wheel for keras-self-attention: filename=keras_self_attention-0.51.0-py3-none-any.whl size=18895 sha256=13e5f45e8608c0fe8f49fa5b77d650a4198fe94f6496ae5c57e9d0af4ab0f0e2\n",
            "  Stored in directory: /root/.cache/pip/wheels/46/f9/96/709295c836133071c12a300729fed4027757f889c01695feea\n",
            "Successfully built keras-self-attention\n",
            "Installing collected packages: kt-legacy, keras-self-attention, keras-tuner\n",
            "Successfully installed keras-self-attention-0.51.0 keras-tuner-1.4.7 kt-legacy-1.0.5\n"
          ]
        }
      ],
      "source": [
        "%pip install numpy pandas matplotlib seaborn scikit-learn keras keras-tuner tensorflow keras-self-attention\n",
        "\n",
        "import numpy as np\n",
        "import pandas as pd\n",
        "import matplotlib.pyplot as plt\n",
        "from sklearn.model_selection import train_test_split, KFold\n",
        "from sklearn.preprocessing import StandardScaler\n",
        "from sklearn.metrics import mean_absolute_error, mean_squared_error, r2_score\n",
        "from tensorflow import keras\n",
        "from keras import layers, regularizers\n",
        "from keras.models import Sequential\n",
        "import keras_tuner as kt\n",
        "from keras_tuner.tuners import BayesianOptimization\n",
        "from keras_self_attention import SeqSelfAttention"
      ]
    },
    {
      "cell_type": "code",
      "source": [
        "# Load and preprocess data\n",
        "df = pd.read_csv('balanced_dataset.csv')\n",
        "X = df.drop(['City', 'AQI'], axis=1).values\n",
        "y = df['AQI'].values\n",
        "\n",
        "scaler = StandardScaler()\n",
        "X_scaled = scaler.fit_transform(X)\n",
        "\n",
        "y_scaler = StandardScaler()\n",
        "y_scaled = y_scaler.fit_transform(y.reshape(-1, 1)).flatten()\n"
      ],
      "metadata": {
        "id": "AbSpTzuGJZo0"
      },
      "execution_count": null,
      "outputs": []
    },
    {
      "cell_type": "code",
      "source": [
        "# Windowed sequences\n",
        "window_size = 5\n",
        "X_seq, y_seq = [], []\n",
        "for i in range(len(X_scaled) - window_size):\n",
        "    X_seq.append(X_scaled[i:i + window_size])\n",
        "    y_seq.append(y_scaled[i + window_size])\n",
        "X_lstm = np.array(X_seq)\n",
        "y = np.array(y_seq)\n",
        "\n",
        "X_train_full, X_test, y_train_full, y_test = train_test_split(X_lstm, y, test_size=0.1, random_state=42)\n"
      ],
      "metadata": {
        "id": "h84b1CXIJbzv"
      },
      "execution_count": null,
      "outputs": []
    },
    {
      "cell_type": "code",
      "source": [
        "# MODEL BUILDER\n",
        "def build_model(hp):\n",
        "    model_type = hp.Choice('model_type', ['lstm', 'gru', 'cnn_lstm'])\n",
        "    model = Sequential()\n",
        "    input_shape = (X_lstm.shape[1], X_lstm.shape[2])\n",
        "\n",
        "    if model_type == 'lstm':\n",
        "        for i in range(hp.Int('num_layers', 1, 2)):\n",
        "            return_seq = i < hp.Int('num_layers', 1, 2) - 1\n",
        "            model.add(layers.Bidirectional(layers.LSTM(\n",
        "                units=hp.Int(f'units_{i}', 32, 128, step=32),\n",
        "                return_sequences=return_seq,\n",
        "                input_shape=input_shape if i == 0 else None,\n",
        "                kernel_regularizer=regularizers.l2(hp.Choice('l2', [0.0, 1e-4, 1e-3]))\n",
        "            )))\n",
        "            if hp.Boolean(\"attention\", default=True):\n",
        "                model.add(SeqSelfAttention(attention_activation='sigmoid'))\n",
        "            model.add(layers.Dropout(hp.Float(f'dropout_{i}', 0.2, 0.5, step=0.1)))\n",
        "\n",
        "    elif model_type == 'gru':\n",
        "        model.add(layers.GRU(\n",
        "            units=hp.Int('units_gru', 32, 128, step=32),\n",
        "            input_shape=input_shape\n",
        "        ))\n",
        "        if hp.Boolean(\"attention\", default=True):\n",
        "            model.add(SeqSelfAttention(attention_activation='sigmoid'))\n",
        "        model.add(layers.Dropout(hp.Float('dropout_gru', 0.2, 0.5, step=0.1)))\n",
        "\n",
        "    elif model_type == 'cnn_lstm':\n",
        "        model.add(layers.Conv1D(filters=64, kernel_size=3, activation='relu', input_shape=input_shape))\n",
        "        model.add(layers.MaxPooling1D(pool_size=2))\n",
        "        model.add(layers.LSTM(64))\n",
        "        model.add(layers.Dropout(hp.Float('dropout_cnn', 0.2, 0.5, step=0.1)))\n",
        "\n",
        "    model.add(layers.Dense(1, activation='linear'))\n",
        "\n",
        "    model.compile(\n",
        "        optimizer=keras.optimizers.Adam(\n",
        "            learning_rate=hp.Choice('lr', [1e-2, 1e-3, 1e-4])\n",
        "        ),\n",
        "        loss='mse',\n",
        "        metrics=['mae']\n",
        "    )\n",
        "    return model"
      ],
      "metadata": {
        "id": "_djV0oBrJg5X"
      },
      "execution_count": null,
      "outputs": []
    },
    {
      "cell_type": "code",
      "source": [
        "# Tuning\n",
        "print(\"\\n\\n🔍 Starting Bayesian Hyperparameter Search...\\n\")\n",
        "tuner = BayesianOptimization(\n",
        "    build_model,\n",
        "    objective='val_mae',\n",
        "    max_trials=15,\n",
        "    executions_per_trial=1,\n",
        "    directory='tuner_dir',\n",
        "    project_name='aqi_model_all'\n",
        ")\n",
        "\n",
        "tuner.search(X_train_full, y_train_full, epochs=20, validation_split=0.2, verbose=1,\n",
        "             callbacks=[keras.callbacks.EarlyStopping(monitor='val_loss', patience=3)])\n",
        "\n",
        "best_hp = tuner.get_best_hyperparameters(1)[0]\n",
        "print(\"\\nBest Hyperparameters:\", best_hp.values)"
      ],
      "metadata": {
        "colab": {
          "base_uri": "https://localhost:8080/"
        },
        "id": "tsQGo8xMJjAl",
        "outputId": "8e619726-51d5-488c-91d3-91c199a993e2"
      },
      "execution_count": null,
      "outputs": [
        {
          "output_type": "stream",
          "name": "stdout",
          "text": [
            "Trial 15 Complete [00h 00m 51s]\n",
            "val_mae: 0.43466416001319885\n",
            "\n",
            "Best val_mae So Far: 0.3312261998653412\n",
            "Total elapsed time: 00h 14m 46s\n",
            "\n",
            "Best Hyperparameters: {'model_type': 'lstm', 'num_layers': 2, 'units_0': 64, 'l2': 0.0001, 'attention': False, 'dropout_0': 0.30000000000000004, 'lr': 0.001, 'dropout_cnn': 0.2, 'units_1': 32, 'dropout_1': 0.2}\n"
          ]
        }
      ]
    },
    {
      "cell_type": "code",
      "source": [
        "# K-Fold Training\n",
        "kf = KFold(n_splits=5, shuffle=True, random_state=42)\n",
        "histories, fold_metrics = [], []\n",
        "best_model, best_val_mae = None, float('inf')\n",
        "\n",
        "for fold, (train_idx, val_idx) in enumerate(kf.split(X_train_full, y_train_full)):\n",
        "    print(f\"\\n--- Fold {fold+1} ---\")\n",
        "    X_train, X_val = X_train_full[train_idx], X_train_full[val_idx]\n",
        "    y_train, y_val = y_train_full[train_idx], y_train_full[val_idx]\n",
        "\n",
        "    model = build_model(best_hp)\n",
        "\n",
        "    history = model.fit(\n",
        "        X_train, y_train,\n",
        "        validation_data=(X_val, y_val),\n",
        "        epochs=50,\n",
        "        batch_size = best_hp.values.get('batch_size', 32),\n",
        "\n",
        "\n",
        "        callbacks=[\n",
        "            keras.callbacks.EarlyStopping(monitor='val_loss', patience=5, restore_best_weights=True),\n",
        "            keras.callbacks.ReduceLROnPlateau(monitor='val_loss', factor=0.5, patience=2, min_lr=1e-6)\n",
        "        ],\n",
        "        verbose=1\n",
        "    )\n",
        "    histories.append(history)\n",
        "\n",
        "    y_pred = model.predict(X_val).flatten()\n",
        "    y_val_inv = y_scaler.inverse_transform(y_val.reshape(-1, 1)).flatten()\n",
        "    y_pred_inv = y_scaler.inverse_transform(y_pred.reshape(-1, 1)).flatten()\n",
        "\n",
        "    mae = mean_absolute_error(y_val_inv, y_pred_inv)\n",
        "    mse = mean_squared_error(y_val_inv, y_pred_inv)\n",
        "    r2 = r2_score(y_val_inv, y_pred_inv)\n",
        "\n",
        "    fold_metrics.append({'mae': mae, 'mse': mse, 'r2': r2, 'y_val': y_val_inv, 'y_pred': y_pred_inv})\n",
        "\n",
        "    if min(history.history['val_mae']) < best_val_mae:\n",
        "        best_val_mae = min(history.history['val_mae'])\n",
        "        best_model = model\n",
        "        model.save('best_aqi_model_all.h5')\n"
      ],
      "metadata": {
        "colab": {
          "base_uri": "https://localhost:8080/"
        },
        "id": "VTZ2Aw2MJmNC",
        "outputId": "fd55cfce-67a2-4714-d21b-49ba9bc30c73"
      },
      "execution_count": null,
      "outputs": [
        {
          "output_type": "stream",
          "name": "stdout",
          "text": [
            "\n",
            "--- Fold 1 ---\n"
          ]
        },
        {
          "output_type": "stream",
          "name": "stderr",
          "text": [
            "/usr/local/lib/python3.11/dist-packages/keras/src/layers/rnn/rnn.py:200: UserWarning: Do not pass an `input_shape`/`input_dim` argument to a layer. When using Sequential models, prefer using an `Input(shape)` object as the first layer in the model instead.\n",
            "  super().__init__(**kwargs)\n"
          ]
        },
        {
          "output_type": "stream",
          "name": "stdout",
          "text": [
            "Epoch 1/50\n",
            "\u001b[1m315/315\u001b[0m \u001b[32m━━━━━━━━━━━━━━━━━━━━\u001b[0m\u001b[37m\u001b[0m \u001b[1m20s\u001b[0m 34ms/step - loss: 0.4510 - mae: 0.4401 - val_loss: 0.3819 - val_mae: 0.4061 - learning_rate: 0.0010\n",
            "Epoch 2/50\n",
            "\u001b[1m315/315\u001b[0m \u001b[32m━━━━━━━━━━━━━━━━━━━━\u001b[0m\u001b[37m\u001b[0m \u001b[1m15s\u001b[0m 16ms/step - loss: 0.3816 - mae: 0.4021 - val_loss: 0.3715 - val_mae: 0.4017 - learning_rate: 0.0010\n",
            "Epoch 3/50\n",
            "\u001b[1m315/315\u001b[0m \u001b[32m━━━━━━━━━━━━━━━━━━━━\u001b[0m\u001b[37m\u001b[0m \u001b[1m10s\u001b[0m 17ms/step - loss: 0.3559 - mae: 0.3859 - val_loss: 0.3595 - val_mae: 0.3964 - learning_rate: 0.0010\n",
            "Epoch 4/50\n",
            "\u001b[1m315/315\u001b[0m \u001b[32m━━━━━━━━━━━━━━━━━━━━\u001b[0m\u001b[37m\u001b[0m \u001b[1m6s\u001b[0m 20ms/step - loss: 0.3461 - mae: 0.3806 - val_loss: 0.3459 - val_mae: 0.3848 - learning_rate: 0.0010\n",
            "Epoch 5/50\n",
            "\u001b[1m315/315\u001b[0m \u001b[32m━━━━━━━━━━━━━━━━━━━━\u001b[0m\u001b[37m\u001b[0m \u001b[1m10s\u001b[0m 18ms/step - loss: 0.3462 - mae: 0.3833 - val_loss: 0.3450 - val_mae: 0.3767 - learning_rate: 0.0010\n",
            "Epoch 6/50\n",
            "\u001b[1m315/315\u001b[0m \u001b[32m━━━━━━━━━━━━━━━━━━━━\u001b[0m\u001b[37m\u001b[0m \u001b[1m9s\u001b[0m 16ms/step - loss: 0.3281 - mae: 0.3701 - val_loss: 0.3419 - val_mae: 0.3773 - learning_rate: 0.0010\n",
            "Epoch 7/50\n",
            "\u001b[1m315/315\u001b[0m \u001b[32m━━━━━━━━━━━━━━━━━━━━\u001b[0m\u001b[37m\u001b[0m \u001b[1m7s\u001b[0m 22ms/step - loss: 0.3278 - mae: 0.3669 - val_loss: 0.3399 - val_mae: 0.3682 - learning_rate: 0.0010\n",
            "Epoch 8/50\n",
            "\u001b[1m315/315\u001b[0m \u001b[32m━━━━━━━━━━━━━━━━━━━━\u001b[0m\u001b[37m\u001b[0m \u001b[1m9s\u001b[0m 19ms/step - loss: 0.3271 - mae: 0.3680 - val_loss: 0.3346 - val_mae: 0.3724 - learning_rate: 0.0010\n",
            "Epoch 9/50\n",
            "\u001b[1m315/315\u001b[0m \u001b[32m━━━━━━━━━━━━━━━━━━━━\u001b[0m\u001b[37m\u001b[0m \u001b[1m6s\u001b[0m 18ms/step - loss: 0.3147 - mae: 0.3619 - val_loss: 0.3321 - val_mae: 0.3642 - learning_rate: 0.0010\n",
            "Epoch 10/50\n",
            "\u001b[1m315/315\u001b[0m \u001b[32m━━━━━━━━━━━━━━━━━━━━\u001b[0m\u001b[37m\u001b[0m \u001b[1m12s\u001b[0m 22ms/step - loss: 0.3118 - mae: 0.3592 - val_loss: 0.3338 - val_mae: 0.3663 - learning_rate: 0.0010\n",
            "Epoch 11/50\n",
            "\u001b[1m315/315\u001b[0m \u001b[32m━━━━━━━━━━━━━━━━━━━━\u001b[0m\u001b[37m\u001b[0m \u001b[1m10s\u001b[0m 21ms/step - loss: 0.2896 - mae: 0.3477 - val_loss: 0.3333 - val_mae: 0.3687 - learning_rate: 0.0010\n",
            "Epoch 12/50\n",
            "\u001b[1m315/315\u001b[0m \u001b[32m━━━━━━━━━━━━━━━━━━━━\u001b[0m\u001b[37m\u001b[0m \u001b[1m5s\u001b[0m 17ms/step - loss: 0.2930 - mae: 0.3477 - val_loss: 0.3261 - val_mae: 0.3625 - learning_rate: 5.0000e-04\n",
            "Epoch 13/50\n",
            "\u001b[1m315/315\u001b[0m \u001b[32m━━━━━━━━━━━━━━━━━━━━\u001b[0m\u001b[37m\u001b[0m \u001b[1m8s\u001b[0m 24ms/step - loss: 0.3183 - mae: 0.3599 - val_loss: 0.3257 - val_mae: 0.3625 - learning_rate: 5.0000e-04\n",
            "Epoch 14/50\n",
            "\u001b[1m315/315\u001b[0m \u001b[32m━━━━━━━━━━━━━━━━━━━━\u001b[0m\u001b[37m\u001b[0m \u001b[1m5s\u001b[0m 16ms/step - loss: 0.2997 - mae: 0.3513 - val_loss: 0.3253 - val_mae: 0.3642 - learning_rate: 5.0000e-04\n",
            "Epoch 15/50\n",
            "\u001b[1m315/315\u001b[0m \u001b[32m━━━━━━━━━━━━━━━━━━━━\u001b[0m\u001b[37m\u001b[0m \u001b[1m6s\u001b[0m 19ms/step - loss: 0.2865 - mae: 0.3457 - val_loss: 0.3276 - val_mae: 0.3583 - learning_rate: 5.0000e-04\n",
            "Epoch 16/50\n",
            "\u001b[1m315/315\u001b[0m \u001b[32m━━━━━━━━━━━━━━━━━━━━\u001b[0m\u001b[37m\u001b[0m \u001b[1m6s\u001b[0m 18ms/step - loss: 0.2736 - mae: 0.3337 - val_loss: 0.3284 - val_mae: 0.3588 - learning_rate: 5.0000e-04\n",
            "Epoch 17/50\n",
            "\u001b[1m315/315\u001b[0m \u001b[32m━━━━━━━━━━━━━━━━━━━━\u001b[0m\u001b[37m\u001b[0m \u001b[1m11s\u001b[0m 21ms/step - loss: 0.2931 - mae: 0.3450 - val_loss: 0.3248 - val_mae: 0.3531 - learning_rate: 2.5000e-04\n",
            "Epoch 18/50\n",
            "\u001b[1m315/315\u001b[0m \u001b[32m━━━━━━━━━━━━━━━━━━━━\u001b[0m\u001b[37m\u001b[0m \u001b[1m10s\u001b[0m 20ms/step - loss: 0.2858 - mae: 0.3402 - val_loss: 0.3249 - val_mae: 0.3568 - learning_rate: 2.5000e-04\n",
            "Epoch 19/50\n",
            "\u001b[1m315/315\u001b[0m \u001b[32m━━━━━━━━━━━━━━━━━━━━\u001b[0m\u001b[37m\u001b[0m \u001b[1m5s\u001b[0m 16ms/step - loss: 0.2785 - mae: 0.3363 - val_loss: 0.3259 - val_mae: 0.3622 - learning_rate: 2.5000e-04\n",
            "Epoch 20/50\n",
            "\u001b[1m315/315\u001b[0m \u001b[32m━━━━━━━━━━━━━━━━━━━━\u001b[0m\u001b[37m\u001b[0m \u001b[1m5s\u001b[0m 17ms/step - loss: 0.2800 - mae: 0.3397 - val_loss: 0.3239 - val_mae: 0.3555 - learning_rate: 1.2500e-04\n",
            "Epoch 21/50\n",
            "\u001b[1m315/315\u001b[0m \u001b[32m━━━━━━━━━━━━━━━━━━━━\u001b[0m\u001b[37m\u001b[0m \u001b[1m6s\u001b[0m 20ms/step - loss: 0.2830 - mae: 0.3384 - val_loss: 0.3255 - val_mae: 0.3538 - learning_rate: 1.2500e-04\n",
            "Epoch 22/50\n",
            "\u001b[1m315/315\u001b[0m \u001b[32m━━━━━━━━━━━━━━━━━━━━\u001b[0m\u001b[37m\u001b[0m \u001b[1m5s\u001b[0m 16ms/step - loss: 0.2839 - mae: 0.3395 - val_loss: 0.3244 - val_mae: 0.3548 - learning_rate: 1.2500e-04\n",
            "Epoch 23/50\n",
            "\u001b[1m315/315\u001b[0m \u001b[32m━━━━━━━━━━━━━━━━━━━━\u001b[0m\u001b[37m\u001b[0m \u001b[1m6s\u001b[0m 20ms/step - loss: 0.2803 - mae: 0.3378 - val_loss: 0.3250 - val_mae: 0.3539 - learning_rate: 6.2500e-05\n",
            "Epoch 24/50\n",
            "\u001b[1m315/315\u001b[0m \u001b[32m━━━━━━━━━━━━━━━━━━━━\u001b[0m\u001b[37m\u001b[0m \u001b[1m10s\u001b[0m 21ms/step - loss: 0.2853 - mae: 0.3429 - val_loss: 0.3240 - val_mae: 0.3541 - learning_rate: 6.2500e-05\n",
            "Epoch 25/50\n",
            "\u001b[1m315/315\u001b[0m \u001b[32m━━━━━━━━━━━━━━━━━━━━\u001b[0m\u001b[37m\u001b[0m \u001b[1m5s\u001b[0m 16ms/step - loss: 0.2971 - mae: 0.3410 - val_loss: 0.3242 - val_mae: 0.3545 - learning_rate: 3.1250e-05\n",
            "\u001b[1m79/79\u001b[0m \u001b[32m━━━━━━━━━━━━━━━━━━━━\u001b[0m\u001b[37m\u001b[0m \u001b[1m2s\u001b[0m 13ms/step\n"
          ]
        },
        {
          "output_type": "stream",
          "name": "stderr",
          "text": [
            "WARNING:absl:You are saving your model as an HDF5 file via `model.save()` or `keras.saving.save_model(model)`. This file format is considered legacy. We recommend using instead the native Keras format, e.g. `model.save('my_model.keras')` or `keras.saving.save_model(model, 'my_model.keras')`. \n"
          ]
        },
        {
          "output_type": "stream",
          "name": "stdout",
          "text": [
            "\n",
            "--- Fold 2 ---\n",
            "Epoch 1/50\n"
          ]
        },
        {
          "output_type": "stream",
          "name": "stderr",
          "text": [
            "/usr/local/lib/python3.11/dist-packages/keras/src/layers/rnn/rnn.py:200: UserWarning: Do not pass an `input_shape`/`input_dim` argument to a layer. When using Sequential models, prefer using an `Input(shape)` object as the first layer in the model instead.\n",
            "  super().__init__(**kwargs)\n"
          ]
        },
        {
          "output_type": "stream",
          "name": "stdout",
          "text": [
            "\u001b[1m315/315\u001b[0m \u001b[32m━━━━━━━━━━━━━━━━━━━━\u001b[0m\u001b[37m\u001b[0m \u001b[1m15s\u001b[0m 19ms/step - loss: 0.4764 - mae: 0.4580 - val_loss: 0.4111 - val_mae: 0.4175 - learning_rate: 0.0010\n",
            "Epoch 2/50\n",
            "\u001b[1m315/315\u001b[0m \u001b[32m━━━━━━━━━━━━━━━━━━━━\u001b[0m\u001b[37m\u001b[0m \u001b[1m9s\u001b[0m 16ms/step - loss: 0.3815 - mae: 0.3986 - val_loss: 0.3870 - val_mae: 0.3977 - learning_rate: 0.0010\n",
            "Epoch 3/50\n",
            "\u001b[1m315/315\u001b[0m \u001b[32m━━━━━━━━━━━━━━━━━━━━\u001b[0m\u001b[37m\u001b[0m \u001b[1m7s\u001b[0m 21ms/step - loss: 0.3639 - mae: 0.3928 - val_loss: 0.3816 - val_mae: 0.3851 - learning_rate: 0.0010\n",
            "Epoch 4/50\n",
            "\u001b[1m315/315\u001b[0m \u001b[32m━━━━━━━━━━━━━━━━━━━━\u001b[0m\u001b[37m\u001b[0m \u001b[1m5s\u001b[0m 16ms/step - loss: 0.3436 - mae: 0.3840 - val_loss: 0.3711 - val_mae: 0.3897 - learning_rate: 0.0010\n",
            "Epoch 5/50\n",
            "\u001b[1m315/315\u001b[0m \u001b[32m━━━━━━━━━━━━━━━━━━━━\u001b[0m\u001b[37m\u001b[0m \u001b[1m10s\u001b[0m 16ms/step - loss: 0.3242 - mae: 0.3700 - val_loss: 0.3614 - val_mae: 0.3723 - learning_rate: 0.0010\n",
            "Epoch 6/50\n",
            "\u001b[1m315/315\u001b[0m \u001b[32m━━━━━━━━━━━━━━━━━━━━\u001b[0m\u001b[37m\u001b[0m \u001b[1m5s\u001b[0m 16ms/step - loss: 0.3310 - mae: 0.3697 - val_loss: 0.3522 - val_mae: 0.3674 - learning_rate: 0.0010\n",
            "Epoch 7/50\n",
            "\u001b[1m315/315\u001b[0m \u001b[32m━━━━━━━━━━━━━━━━━━━━\u001b[0m\u001b[37m\u001b[0m \u001b[1m10s\u001b[0m 16ms/step - loss: 0.3209 - mae: 0.3655 - val_loss: 0.3503 - val_mae: 0.3757 - learning_rate: 0.0010\n",
            "Epoch 8/50\n",
            "\u001b[1m315/315\u001b[0m \u001b[32m━━━━━━━━━━━━━━━━━━━━\u001b[0m\u001b[37m\u001b[0m \u001b[1m6s\u001b[0m 20ms/step - loss: 0.3107 - mae: 0.3647 - val_loss: 0.3474 - val_mae: 0.3752 - learning_rate: 0.0010\n",
            "Epoch 9/50\n",
            "\u001b[1m315/315\u001b[0m \u001b[32m━━━━━━━━━━━━━━━━━━━━\u001b[0m\u001b[37m\u001b[0m \u001b[1m5s\u001b[0m 16ms/step - loss: 0.3094 - mae: 0.3604 - val_loss: 0.3453 - val_mae: 0.3732 - learning_rate: 0.0010\n",
            "Epoch 10/50\n",
            "\u001b[1m315/315\u001b[0m \u001b[32m━━━━━━━━━━━━━━━━━━━━\u001b[0m\u001b[37m\u001b[0m \u001b[1m6s\u001b[0m 20ms/step - loss: 0.2972 - mae: 0.3525 - val_loss: 0.3437 - val_mae: 0.3670 - learning_rate: 0.0010\n",
            "Epoch 11/50\n",
            "\u001b[1m315/315\u001b[0m \u001b[32m━━━━━━━━━━━━━━━━━━━━\u001b[0m\u001b[37m\u001b[0m \u001b[1m9s\u001b[0m 16ms/step - loss: 0.3252 - mae: 0.3673 - val_loss: 0.3417 - val_mae: 0.3663 - learning_rate: 0.0010\n",
            "Epoch 12/50\n",
            "\u001b[1m315/315\u001b[0m \u001b[32m━━━━━━━━━━━━━━━━━━━━\u001b[0m\u001b[37m\u001b[0m \u001b[1m6s\u001b[0m 20ms/step - loss: 0.3050 - mae: 0.3574 - val_loss: 0.3370 - val_mae: 0.3627 - learning_rate: 0.0010\n",
            "Epoch 13/50\n",
            "\u001b[1m315/315\u001b[0m \u001b[32m━━━━━━━━━━━━━━━━━━━━\u001b[0m\u001b[37m\u001b[0m \u001b[1m5s\u001b[0m 16ms/step - loss: 0.3207 - mae: 0.3636 - val_loss: 0.3408 - val_mae: 0.3695 - learning_rate: 0.0010\n",
            "Epoch 14/50\n",
            "\u001b[1m315/315\u001b[0m \u001b[32m━━━━━━━━━━━━━━━━━━━━\u001b[0m\u001b[37m\u001b[0m \u001b[1m7s\u001b[0m 20ms/step - loss: 0.2951 - mae: 0.3510 - val_loss: 0.3383 - val_mae: 0.3671 - learning_rate: 0.0010\n",
            "Epoch 15/50\n",
            "\u001b[1m315/315\u001b[0m \u001b[32m━━━━━━━━━━━━━━━━━━━━\u001b[0m\u001b[37m\u001b[0m \u001b[1m11s\u001b[0m 23ms/step - loss: 0.2881 - mae: 0.3422 - val_loss: 0.3361 - val_mae: 0.3633 - learning_rate: 5.0000e-04\n",
            "Epoch 16/50\n",
            "\u001b[1m315/315\u001b[0m \u001b[32m━━━━━━━━━━━━━━━━━━━━\u001b[0m\u001b[37m\u001b[0m \u001b[1m6s\u001b[0m 17ms/step - loss: 0.2999 - mae: 0.3502 - val_loss: 0.3366 - val_mae: 0.3589 - learning_rate: 5.0000e-04\n",
            "Epoch 17/50\n",
            "\u001b[1m315/315\u001b[0m \u001b[32m━━━━━━━━━━━━━━━━━━━━\u001b[0m\u001b[37m\u001b[0m \u001b[1m5s\u001b[0m 17ms/step - loss: 0.2837 - mae: 0.3390 - val_loss: 0.3380 - val_mae: 0.3598 - learning_rate: 5.0000e-04\n",
            "Epoch 18/50\n",
            "\u001b[1m315/315\u001b[0m \u001b[32m━━━━━━━━━━━━━━━━━━━━\u001b[0m\u001b[37m\u001b[0m \u001b[1m6s\u001b[0m 20ms/step - loss: 0.2898 - mae: 0.3385 - val_loss: 0.3330 - val_mae: 0.3587 - learning_rate: 2.5000e-04\n",
            "Epoch 19/50\n",
            "\u001b[1m315/315\u001b[0m \u001b[32m━━━━━━━━━━━━━━━━━━━━\u001b[0m\u001b[37m\u001b[0m \u001b[1m5s\u001b[0m 16ms/step - loss: 0.2895 - mae: 0.3398 - val_loss: 0.3348 - val_mae: 0.3579 - learning_rate: 2.5000e-04\n",
            "Epoch 20/50\n",
            "\u001b[1m315/315\u001b[0m \u001b[32m━━━━━━━━━━━━━━━━━━━━\u001b[0m\u001b[37m\u001b[0m \u001b[1m6s\u001b[0m 20ms/step - loss: 0.2715 - mae: 0.3369 - val_loss: 0.3349 - val_mae: 0.3603 - learning_rate: 2.5000e-04\n",
            "Epoch 21/50\n",
            "\u001b[1m315/315\u001b[0m \u001b[32m━━━━━━━━━━━━━━━━━━━━\u001b[0m\u001b[37m\u001b[0m \u001b[1m5s\u001b[0m 16ms/step - loss: 0.2649 - mae: 0.3308 - val_loss: 0.3353 - val_mae: 0.3626 - learning_rate: 1.2500e-04\n",
            "Epoch 22/50\n",
            "\u001b[1m315/315\u001b[0m \u001b[32m━━━━━━━━━━━━━━━━━━━━\u001b[0m\u001b[37m\u001b[0m \u001b[1m6s\u001b[0m 20ms/step - loss: 0.2836 - mae: 0.3457 - val_loss: 0.3348 - val_mae: 0.3553 - learning_rate: 1.2500e-04\n",
            "Epoch 23/50\n",
            "\u001b[1m315/315\u001b[0m \u001b[32m━━━━━━━━━━━━━━━━━━━━\u001b[0m\u001b[37m\u001b[0m \u001b[1m9s\u001b[0m 16ms/step - loss: 0.2806 - mae: 0.3381 - val_loss: 0.3343 - val_mae: 0.3563 - learning_rate: 6.2500e-05\n",
            "\u001b[1m79/79\u001b[0m \u001b[32m━━━━━━━━━━━━━━━━━━━━\u001b[0m\u001b[37m\u001b[0m \u001b[1m2s\u001b[0m 21ms/step\n",
            "\n",
            "--- Fold 3 ---\n",
            "Epoch 1/50\n"
          ]
        },
        {
          "output_type": "stream",
          "name": "stderr",
          "text": [
            "/usr/local/lib/python3.11/dist-packages/keras/src/layers/rnn/rnn.py:200: UserWarning: Do not pass an `input_shape`/`input_dim` argument to a layer. When using Sequential models, prefer using an `Input(shape)` object as the first layer in the model instead.\n",
            "  super().__init__(**kwargs)\n"
          ]
        },
        {
          "output_type": "stream",
          "name": "stdout",
          "text": [
            "\u001b[1m315/315\u001b[0m \u001b[32m━━━━━━━━━━━━━━━━━━━━\u001b[0m\u001b[37m\u001b[0m \u001b[1m16s\u001b[0m 24ms/step - loss: 0.4822 - mae: 0.4552 - val_loss: 0.3399 - val_mae: 0.3819 - learning_rate: 0.0010\n",
            "Epoch 2/50\n",
            "\u001b[1m315/315\u001b[0m \u001b[32m━━━━━━━━━━━━━━━━━━━━\u001b[0m\u001b[37m\u001b[0m \u001b[1m5s\u001b[0m 17ms/step - loss: 0.3630 - mae: 0.3917 - val_loss: 0.3297 - val_mae: 0.3812 - learning_rate: 0.0010\n",
            "Epoch 3/50\n",
            "\u001b[1m315/315\u001b[0m \u001b[32m━━━━━━━━━━━━━━━━━━━━\u001b[0m\u001b[37m\u001b[0m \u001b[1m7s\u001b[0m 21ms/step - loss: 0.3584 - mae: 0.3887 - val_loss: 0.3228 - val_mae: 0.3717 - learning_rate: 0.0010\n",
            "Epoch 4/50\n",
            "\u001b[1m315/315\u001b[0m \u001b[32m━━━━━━━━━━━━━━━━━━━━\u001b[0m\u001b[37m\u001b[0m \u001b[1m5s\u001b[0m 16ms/step - loss: 0.3619 - mae: 0.3921 - val_loss: 0.3148 - val_mae: 0.3789 - learning_rate: 0.0010\n",
            "Epoch 5/50\n",
            "\u001b[1m315/315\u001b[0m \u001b[32m━━━━━━━━━━━━━━━━━━━━\u001b[0m\u001b[37m\u001b[0m \u001b[1m6s\u001b[0m 20ms/step - loss: 0.3542 - mae: 0.3896 - val_loss: 0.3008 - val_mae: 0.3502 - learning_rate: 0.0010\n",
            "Epoch 6/50\n",
            "\u001b[1m315/315\u001b[0m \u001b[32m━━━━━━━━━━━━━━━━━━━━\u001b[0m\u001b[37m\u001b[0m \u001b[1m5s\u001b[0m 17ms/step - loss: 0.3358 - mae: 0.3782 - val_loss: 0.3029 - val_mae: 0.3570 - learning_rate: 0.0010\n",
            "Epoch 7/50\n",
            "\u001b[1m315/315\u001b[0m \u001b[32m━━━━━━━━━━━━━━━━━━━━\u001b[0m\u001b[37m\u001b[0m \u001b[1m11s\u001b[0m 19ms/step - loss: 0.3426 - mae: 0.3813 - val_loss: 0.3009 - val_mae: 0.3674 - learning_rate: 0.0010\n",
            "Epoch 8/50\n",
            "\u001b[1m315/315\u001b[0m \u001b[32m━━━━━━━━━━━━━━━━━━━━\u001b[0m\u001b[37m\u001b[0m \u001b[1m5s\u001b[0m 16ms/step - loss: 0.3325 - mae: 0.3754 - val_loss: 0.2946 - val_mae: 0.3426 - learning_rate: 5.0000e-04\n",
            "Epoch 9/50\n",
            "\u001b[1m315/315\u001b[0m \u001b[32m━━━━━━━━━━━━━━━━━━━━\u001b[0m\u001b[37m\u001b[0m \u001b[1m6s\u001b[0m 20ms/step - loss: 0.3425 - mae: 0.3740 - val_loss: 0.2928 - val_mae: 0.3415 - learning_rate: 5.0000e-04\n",
            "Epoch 10/50\n",
            "\u001b[1m315/315\u001b[0m \u001b[32m━━━━━━━━━━━━━━━━━━━━\u001b[0m\u001b[37m\u001b[0m \u001b[1m10s\u001b[0m 18ms/step - loss: 0.3125 - mae: 0.3626 - val_loss: 0.2922 - val_mae: 0.3463 - learning_rate: 5.0000e-04\n",
            "Epoch 11/50\n",
            "\u001b[1m315/315\u001b[0m \u001b[32m━━━━━━━━━━━━━━━━━━━━\u001b[0m\u001b[37m\u001b[0m \u001b[1m6s\u001b[0m 19ms/step - loss: 0.3258 - mae: 0.3661 - val_loss: 0.2910 - val_mae: 0.3465 - learning_rate: 5.0000e-04\n",
            "Epoch 12/50\n",
            "\u001b[1m315/315\u001b[0m \u001b[32m━━━━━━━━━━━━━━━━━━━━\u001b[0m\u001b[37m\u001b[0m \u001b[1m11s\u001b[0m 21ms/step - loss: 0.3354 - mae: 0.3718 - val_loss: 0.2864 - val_mae: 0.3440 - learning_rate: 5.0000e-04\n",
            "Epoch 13/50\n",
            "\u001b[1m315/315\u001b[0m \u001b[32m━━━━━━━━━━━━━━━━━━━━\u001b[0m\u001b[37m\u001b[0m \u001b[1m9s\u001b[0m 18ms/step - loss: 0.3189 - mae: 0.3622 - val_loss: 0.2874 - val_mae: 0.3413 - learning_rate: 5.0000e-04\n",
            "Epoch 14/50\n",
            "\u001b[1m315/315\u001b[0m \u001b[32m━━━━━━━━━━━━━━━━━━━━\u001b[0m\u001b[37m\u001b[0m \u001b[1m10s\u001b[0m 17ms/step - loss: 0.3075 - mae: 0.3557 - val_loss: 0.2894 - val_mae: 0.3452 - learning_rate: 5.0000e-04\n",
            "Epoch 15/50\n",
            "\u001b[1m315/315\u001b[0m \u001b[32m━━━━━━━━━━━━━━━━━━━━\u001b[0m\u001b[37m\u001b[0m \u001b[1m7s\u001b[0m 21ms/step - loss: 0.3195 - mae: 0.3630 - val_loss: 0.2857 - val_mae: 0.3370 - learning_rate: 2.5000e-04\n",
            "Epoch 16/50\n",
            "\u001b[1m315/315\u001b[0m \u001b[32m━━━━━━━━━━━━━━━━━━━━\u001b[0m\u001b[37m\u001b[0m \u001b[1m9s\u001b[0m 18ms/step - loss: 0.3057 - mae: 0.3550 - val_loss: 0.2851 - val_mae: 0.3370 - learning_rate: 2.5000e-04\n",
            "Epoch 17/50\n",
            "\u001b[1m315/315\u001b[0m \u001b[32m━━━━━━━━━━━━━━━━━━━━\u001b[0m\u001b[37m\u001b[0m \u001b[1m6s\u001b[0m 19ms/step - loss: 0.3064 - mae: 0.3531 - val_loss: 0.2845 - val_mae: 0.3393 - learning_rate: 2.5000e-04\n",
            "Epoch 18/50\n",
            "\u001b[1m315/315\u001b[0m \u001b[32m━━━━━━━━━━━━━━━━━━━━\u001b[0m\u001b[37m\u001b[0m \u001b[1m5s\u001b[0m 17ms/step - loss: 0.3223 - mae: 0.3602 - val_loss: 0.2835 - val_mae: 0.3376 - learning_rate: 2.5000e-04\n",
            "Epoch 19/50\n",
            "\u001b[1m315/315\u001b[0m \u001b[32m━━━━━━━━━━━━━━━━━━━━\u001b[0m\u001b[37m\u001b[0m \u001b[1m11s\u001b[0m 20ms/step - loss: 0.2981 - mae: 0.3496 - val_loss: 0.2837 - val_mae: 0.3389 - learning_rate: 2.5000e-04\n",
            "Epoch 20/50\n",
            "\u001b[1m315/315\u001b[0m \u001b[32m━━━━━━━━━━━━━━━━━━━━\u001b[0m\u001b[37m\u001b[0m \u001b[1m9s\u001b[0m 16ms/step - loss: 0.3003 - mae: 0.3495 - val_loss: 0.2828 - val_mae: 0.3327 - learning_rate: 2.5000e-04\n",
            "Epoch 21/50\n",
            "\u001b[1m315/315\u001b[0m \u001b[32m━━━━━━━━━━━━━━━━━━━━\u001b[0m\u001b[37m\u001b[0m \u001b[1m7s\u001b[0m 21ms/step - loss: 0.3114 - mae: 0.3572 - val_loss: 0.2860 - val_mae: 0.3339 - learning_rate: 2.5000e-04\n",
            "Epoch 22/50\n",
            "\u001b[1m315/315\u001b[0m \u001b[32m━━━━━━━━━━━━━━━━━━━━\u001b[0m\u001b[37m\u001b[0m \u001b[1m5s\u001b[0m 16ms/step - loss: 0.3021 - mae: 0.3505 - val_loss: 0.2853 - val_mae: 0.3359 - learning_rate: 2.5000e-04\n",
            "Epoch 23/50\n",
            "\u001b[1m315/315\u001b[0m \u001b[32m━━━━━━━━━━━━━━━━━━━━\u001b[0m\u001b[37m\u001b[0m \u001b[1m5s\u001b[0m 16ms/step - loss: 0.3065 - mae: 0.3524 - val_loss: 0.2833 - val_mae: 0.3340 - learning_rate: 1.2500e-04\n",
            "Epoch 24/50\n",
            "\u001b[1m315/315\u001b[0m \u001b[32m━━━━━━━━━━━━━━━━━━━━\u001b[0m\u001b[37m\u001b[0m \u001b[1m7s\u001b[0m 20ms/step - loss: 0.2933 - mae: 0.3447 - val_loss: 0.2847 - val_mae: 0.3391 - learning_rate: 1.2500e-04\n",
            "Epoch 25/50\n",
            "\u001b[1m315/315\u001b[0m \u001b[32m━━━━━━━━━━━━━━━━━━━━\u001b[0m\u001b[37m\u001b[0m \u001b[1m10s\u001b[0m 21ms/step - loss: 0.2983 - mae: 0.3498 - val_loss: 0.2830 - val_mae: 0.3356 - learning_rate: 6.2500e-05\n",
            "\u001b[1m79/79\u001b[0m \u001b[32m━━━━━━━━━━━━━━━━━━━━\u001b[0m\u001b[37m\u001b[0m \u001b[1m2s\u001b[0m 13ms/step\n"
          ]
        },
        {
          "output_type": "stream",
          "name": "stderr",
          "text": [
            "WARNING:absl:You are saving your model as an HDF5 file via `model.save()` or `keras.saving.save_model(model)`. This file format is considered legacy. We recommend using instead the native Keras format, e.g. `model.save('my_model.keras')` or `keras.saving.save_model(model, 'my_model.keras')`. \n"
          ]
        },
        {
          "output_type": "stream",
          "name": "stdout",
          "text": [
            "\n",
            "--- Fold 4 ---\n",
            "Epoch 1/50\n"
          ]
        },
        {
          "output_type": "stream",
          "name": "stderr",
          "text": [
            "/usr/local/lib/python3.11/dist-packages/keras/src/layers/rnn/rnn.py:200: UserWarning: Do not pass an `input_shape`/`input_dim` argument to a layer. When using Sequential models, prefer using an `Input(shape)` object as the first layer in the model instead.\n",
            "  super().__init__(**kwargs)\n"
          ]
        },
        {
          "output_type": "stream",
          "name": "stdout",
          "text": [
            "\u001b[1m315/315\u001b[0m \u001b[32m━━━━━━━━━━━━━━━━━━━━\u001b[0m\u001b[37m\u001b[0m \u001b[1m15s\u001b[0m 20ms/step - loss: 0.4704 - mae: 0.4517 - val_loss: 0.3736 - val_mae: 0.3920 - learning_rate: 0.0010\n",
            "Epoch 2/50\n",
            "\u001b[1m315/315\u001b[0m \u001b[32m━━━━━━━━━━━━━━━━━━━━\u001b[0m\u001b[37m\u001b[0m \u001b[1m5s\u001b[0m 17ms/step - loss: 0.3796 - mae: 0.3999 - val_loss: 0.3599 - val_mae: 0.3853 - learning_rate: 0.0010\n",
            "Epoch 3/50\n",
            "\u001b[1m315/315\u001b[0m \u001b[32m━━━━━━━━━━━━━━━━━━━━\u001b[0m\u001b[37m\u001b[0m \u001b[1m6s\u001b[0m 19ms/step - loss: 0.3629 - mae: 0.3844 - val_loss: 0.3455 - val_mae: 0.3733 - learning_rate: 0.0010\n",
            "Epoch 4/50\n",
            "\u001b[1m315/315\u001b[0m \u001b[32m━━━━━━━━━━━━━━━━━━━━\u001b[0m\u001b[37m\u001b[0m \u001b[1m11s\u001b[0m 21ms/step - loss: 0.3688 - mae: 0.3844 - val_loss: 0.3384 - val_mae: 0.3785 - learning_rate: 0.0010\n",
            "Epoch 5/50\n",
            "\u001b[1m315/315\u001b[0m \u001b[32m━━━━━━━━━━━━━━━━━━━━\u001b[0m\u001b[37m\u001b[0m \u001b[1m10s\u001b[0m 18ms/step - loss: 0.3496 - mae: 0.3847 - val_loss: 0.3373 - val_mae: 0.3771 - learning_rate: 0.0010\n",
            "Epoch 6/50\n",
            "\u001b[1m315/315\u001b[0m \u001b[32m━━━━━━━━━━━━━━━━━━━━\u001b[0m\u001b[37m\u001b[0m \u001b[1m10s\u001b[0m 17ms/step - loss: 0.3303 - mae: 0.3714 - val_loss: 0.3373 - val_mae: 0.3873 - learning_rate: 0.0010\n",
            "Epoch 7/50\n",
            "\u001b[1m315/315\u001b[0m \u001b[32m━━━━━━━━━━━━━━━━━━━━\u001b[0m\u001b[37m\u001b[0m \u001b[1m10s\u001b[0m 17ms/step - loss: 0.3523 - mae: 0.3842 - val_loss: 0.3260 - val_mae: 0.3614 - learning_rate: 0.0010\n",
            "Epoch 8/50\n",
            "\u001b[1m315/315\u001b[0m \u001b[32m━━━━━━━━━━━━━━━━━━━━\u001b[0m\u001b[37m\u001b[0m \u001b[1m10s\u001b[0m 17ms/step - loss: 0.3405 - mae: 0.3731 - val_loss: 0.3212 - val_mae: 0.3626 - learning_rate: 0.0010\n",
            "Epoch 9/50\n",
            "\u001b[1m315/315\u001b[0m \u001b[32m━━━━━━━━━━━━━━━━━━━━\u001b[0m\u001b[37m\u001b[0m \u001b[1m6s\u001b[0m 18ms/step - loss: 0.3124 - mae: 0.3590 - val_loss: 0.3160 - val_mae: 0.3623 - learning_rate: 0.0010\n",
            "Epoch 10/50\n",
            "\u001b[1m315/315\u001b[0m \u001b[32m━━━━━━━━━━━━━━━━━━━━\u001b[0m\u001b[37m\u001b[0m \u001b[1m6s\u001b[0m 18ms/step - loss: 0.3238 - mae: 0.3664 - val_loss: 0.3184 - val_mae: 0.3628 - learning_rate: 0.0010\n",
            "Epoch 11/50\n",
            "\u001b[1m315/315\u001b[0m \u001b[32m━━━━━━━━━━━━━━━━━━━━\u001b[0m\u001b[37m\u001b[0m \u001b[1m5s\u001b[0m 15ms/step - loss: 0.3126 - mae: 0.3587 - val_loss: 0.3130 - val_mae: 0.3614 - learning_rate: 0.0010\n",
            "Epoch 12/50\n",
            "\u001b[1m315/315\u001b[0m \u001b[32m━━━━━━━━━━━━━━━━━━━━\u001b[0m\u001b[37m\u001b[0m \u001b[1m7s\u001b[0m 21ms/step - loss: 0.3110 - mae: 0.3638 - val_loss: 0.3122 - val_mae: 0.3625 - learning_rate: 0.0010\n",
            "Epoch 13/50\n",
            "\u001b[1m315/315\u001b[0m \u001b[32m━━━━━━━━━━━━━━━━━━━━\u001b[0m\u001b[37m\u001b[0m \u001b[1m5s\u001b[0m 16ms/step - loss: 0.3329 - mae: 0.3692 - val_loss: 0.3083 - val_mae: 0.3501 - learning_rate: 0.0010\n",
            "Epoch 14/50\n",
            "\u001b[1m315/315\u001b[0m \u001b[32m━━━━━━━━━━━━━━━━━━━━\u001b[0m\u001b[37m\u001b[0m \u001b[1m7s\u001b[0m 21ms/step - loss: 0.3047 - mae: 0.3531 - val_loss: 0.3145 - val_mae: 0.3629 - learning_rate: 0.0010\n",
            "Epoch 15/50\n",
            "\u001b[1m315/315\u001b[0m \u001b[32m━━━━━━━━━━━━━━━━━━━━\u001b[0m\u001b[37m\u001b[0m \u001b[1m8s\u001b[0m 15ms/step - loss: 0.3222 - mae: 0.3619 - val_loss: 0.3117 - val_mae: 0.3548 - learning_rate: 0.0010\n",
            "Epoch 16/50\n",
            "\u001b[1m315/315\u001b[0m \u001b[32m━━━━━━━━━━━━━━━━━━━━\u001b[0m\u001b[37m\u001b[0m \u001b[1m7s\u001b[0m 20ms/step - loss: 0.2988 - mae: 0.3507 - val_loss: 0.3023 - val_mae: 0.3444 - learning_rate: 5.0000e-04\n",
            "Epoch 17/50\n",
            "\u001b[1m315/315\u001b[0m \u001b[32m━━━━━━━━━━━━━━━━━━━━\u001b[0m\u001b[37m\u001b[0m \u001b[1m5s\u001b[0m 17ms/step - loss: 0.2959 - mae: 0.3443 - val_loss: 0.3015 - val_mae: 0.3430 - learning_rate: 5.0000e-04\n",
            "Epoch 18/50\n",
            "\u001b[1m315/315\u001b[0m \u001b[32m━━━━━━━━━━━━━━━━━━━━\u001b[0m\u001b[37m\u001b[0m \u001b[1m7s\u001b[0m 21ms/step - loss: 0.2924 - mae: 0.3449 - val_loss: 0.3034 - val_mae: 0.3472 - learning_rate: 5.0000e-04\n",
            "Epoch 19/50\n",
            "\u001b[1m315/315\u001b[0m \u001b[32m━━━━━━━━━━━━━━━━━━━━\u001b[0m\u001b[37m\u001b[0m \u001b[1m10s\u001b[0m 19ms/step - loss: 0.3164 - mae: 0.3570 - val_loss: 0.3022 - val_mae: 0.3410 - learning_rate: 5.0000e-04\n",
            "Epoch 20/50\n",
            "\u001b[1m315/315\u001b[0m \u001b[32m━━━━━━━━━━━━━━━━━━━━\u001b[0m\u001b[37m\u001b[0m \u001b[1m6s\u001b[0m 20ms/step - loss: 0.2795 - mae: 0.3313 - val_loss: 0.3004 - val_mae: 0.3401 - learning_rate: 2.5000e-04\n",
            "Epoch 21/50\n",
            "\u001b[1m315/315\u001b[0m \u001b[32m━━━━━━━━━━━━━━━━━━━━\u001b[0m\u001b[37m\u001b[0m \u001b[1m6s\u001b[0m 18ms/step - loss: 0.2896 - mae: 0.3412 - val_loss: 0.3007 - val_mae: 0.3383 - learning_rate: 2.5000e-04\n",
            "Epoch 22/50\n",
            "\u001b[1m315/315\u001b[0m \u001b[32m━━━━━━━━━━━━━━━━━━━━\u001b[0m\u001b[37m\u001b[0m \u001b[1m6s\u001b[0m 17ms/step - loss: 0.2797 - mae: 0.3325 - val_loss: 0.3011 - val_mae: 0.3383 - learning_rate: 2.5000e-04\n",
            "Epoch 23/50\n",
            "\u001b[1m315/315\u001b[0m \u001b[32m━━━━━━━━━━━━━━━━━━━━\u001b[0m\u001b[37m\u001b[0m \u001b[1m11s\u001b[0m 21ms/step - loss: 0.2856 - mae: 0.3361 - val_loss: 0.2998 - val_mae: 0.3417 - learning_rate: 1.2500e-04\n",
            "Epoch 24/50\n",
            "\u001b[1m315/315\u001b[0m \u001b[32m━━━━━━━━━━━━━━━━━━━━\u001b[0m\u001b[37m\u001b[0m \u001b[1m5s\u001b[0m 17ms/step - loss: 0.2874 - mae: 0.3421 - val_loss: 0.3001 - val_mae: 0.3399 - learning_rate: 1.2500e-04\n",
            "Epoch 25/50\n",
            "\u001b[1m315/315\u001b[0m \u001b[32m━━━━━━━━━━━━━━━━━━━━\u001b[0m\u001b[37m\u001b[0m \u001b[1m6s\u001b[0m 20ms/step - loss: 0.2913 - mae: 0.3411 - val_loss: 0.3002 - val_mae: 0.3374 - learning_rate: 1.2500e-04\n",
            "Epoch 26/50\n",
            "\u001b[1m315/315\u001b[0m \u001b[32m━━━━━━━━━━━━━━━━━━━━\u001b[0m\u001b[37m\u001b[0m \u001b[1m5s\u001b[0m 16ms/step - loss: 0.2780 - mae: 0.3353 - val_loss: 0.3002 - val_mae: 0.3380 - learning_rate: 6.2500e-05\n",
            "Epoch 27/50\n",
            "\u001b[1m315/315\u001b[0m \u001b[32m━━━━━━━━━━━━━━━━━━━━\u001b[0m\u001b[37m\u001b[0m \u001b[1m10s\u001b[0m 17ms/step - loss: 0.2727 - mae: 0.3333 - val_loss: 0.3001 - val_mae: 0.3396 - learning_rate: 6.2500e-05\n",
            "Epoch 28/50\n",
            "\u001b[1m315/315\u001b[0m \u001b[32m━━━━━━━━━━━━━━━━━━━━\u001b[0m\u001b[37m\u001b[0m \u001b[1m6s\u001b[0m 19ms/step - loss: 0.2700 - mae: 0.3321 - val_loss: 0.3000 - val_mae: 0.3393 - learning_rate: 3.1250e-05\n",
            "\u001b[1m79/79\u001b[0m \u001b[32m━━━━━━━━━━━━━━━━━━━━\u001b[0m\u001b[37m\u001b[0m \u001b[1m2s\u001b[0m 14ms/step\n",
            "\n",
            "--- Fold 5 ---\n",
            "Epoch 1/50\n"
          ]
        },
        {
          "output_type": "stream",
          "name": "stderr",
          "text": [
            "/usr/local/lib/python3.11/dist-packages/keras/src/layers/rnn/rnn.py:200: UserWarning: Do not pass an `input_shape`/`input_dim` argument to a layer. When using Sequential models, prefer using an `Input(shape)` object as the first layer in the model instead.\n",
            "  super().__init__(**kwargs)\n"
          ]
        },
        {
          "output_type": "stream",
          "name": "stdout",
          "text": [
            "\u001b[1m315/315\u001b[0m \u001b[32m━━━━━━━━━━━━━━━━━━━━\u001b[0m\u001b[37m\u001b[0m \u001b[1m15s\u001b[0m 19ms/step - loss: 0.4946 - mae: 0.4549 - val_loss: 0.3854 - val_mae: 0.3979 - learning_rate: 0.0010\n",
            "Epoch 2/50\n",
            "\u001b[1m315/315\u001b[0m \u001b[32m━━━━━━━━━━━━━━━━━━━━\u001b[0m\u001b[37m\u001b[0m \u001b[1m9s\u001b[0m 16ms/step - loss: 0.3840 - mae: 0.4026 - val_loss: 0.3716 - val_mae: 0.3801 - learning_rate: 0.0010\n",
            "Epoch 3/50\n",
            "\u001b[1m315/315\u001b[0m \u001b[32m━━━━━━━━━━━━━━━━━━━━\u001b[0m\u001b[37m\u001b[0m \u001b[1m11s\u001b[0m 19ms/step - loss: 0.3700 - mae: 0.3943 - val_loss: 0.3710 - val_mae: 0.3802 - learning_rate: 0.0010\n",
            "Epoch 4/50\n",
            "\u001b[1m315/315\u001b[0m \u001b[32m━━━━━━━━━━━━━━━━━━━━\u001b[0m\u001b[37m\u001b[0m \u001b[1m11s\u001b[0m 22ms/step - loss: 0.3717 - mae: 0.3927 - val_loss: 0.3455 - val_mae: 0.3767 - learning_rate: 0.0010\n",
            "Epoch 5/50\n",
            "\u001b[1m315/315\u001b[0m \u001b[32m━━━━━━━━━━━━━━━━━━━━\u001b[0m\u001b[37m\u001b[0m \u001b[1m9s\u001b[0m 17ms/step - loss: 0.3505 - mae: 0.3855 - val_loss: 0.3362 - val_mae: 0.3626 - learning_rate: 0.0010\n",
            "Epoch 6/50\n",
            "\u001b[1m315/315\u001b[0m \u001b[32m━━━━━━━━━━━━━━━━━━━━\u001b[0m\u001b[37m\u001b[0m \u001b[1m6s\u001b[0m 20ms/step - loss: 0.3475 - mae: 0.3825 - val_loss: 0.3501 - val_mae: 0.3756 - learning_rate: 0.0010\n",
            "Epoch 7/50\n",
            "\u001b[1m315/315\u001b[0m \u001b[32m━━━━━━━━━━━━━━━━━━━━\u001b[0m\u001b[37m\u001b[0m \u001b[1m5s\u001b[0m 17ms/step - loss: 0.3203 - mae: 0.3695 - val_loss: 0.3306 - val_mae: 0.3565 - learning_rate: 0.0010\n",
            "Epoch 8/50\n",
            "\u001b[1m315/315\u001b[0m \u001b[32m━━━━━━━━━━━━━━━━━━━━\u001b[0m\u001b[37m\u001b[0m \u001b[1m10s\u001b[0m 17ms/step - loss: 0.3187 - mae: 0.3673 - val_loss: 0.3323 - val_mae: 0.3538 - learning_rate: 0.0010\n",
            "Epoch 9/50\n",
            "\u001b[1m315/315\u001b[0m \u001b[32m━━━━━━━━━━━━━━━━━━━━\u001b[0m\u001b[37m\u001b[0m \u001b[1m10s\u001b[0m 16ms/step - loss: 0.3135 - mae: 0.3601 - val_loss: 0.3275 - val_mae: 0.3553 - learning_rate: 0.0010\n",
            "Epoch 10/50\n",
            "\u001b[1m315/315\u001b[0m \u001b[32m━━━━━━━━━━━━━━━━━━━━\u001b[0m\u001b[37m\u001b[0m \u001b[1m6s\u001b[0m 20ms/step - loss: 0.3157 - mae: 0.3615 - val_loss: 0.3252 - val_mae: 0.3496 - learning_rate: 0.0010\n",
            "Epoch 11/50\n",
            "\u001b[1m315/315\u001b[0m \u001b[32m━━━━━━━━━━━━━━━━━━━━\u001b[0m\u001b[37m\u001b[0m \u001b[1m9s\u001b[0m 16ms/step - loss: 0.3206 - mae: 0.3608 - val_loss: 0.3259 - val_mae: 0.3524 - learning_rate: 0.0010\n",
            "Epoch 12/50\n",
            "\u001b[1m315/315\u001b[0m \u001b[32m━━━━━━━━━━━━━━━━━━━━\u001b[0m\u001b[37m\u001b[0m \u001b[1m7s\u001b[0m 21ms/step - loss: 0.3327 - mae: 0.3722 - val_loss: 0.3215 - val_mae: 0.3508 - learning_rate: 0.0010\n",
            "Epoch 13/50\n",
            "\u001b[1m315/315\u001b[0m \u001b[32m━━━━━━━━━━━━━━━━━━━━\u001b[0m\u001b[37m\u001b[0m \u001b[1m10s\u001b[0m 19ms/step - loss: 0.3148 - mae: 0.3610 - val_loss: 0.3269 - val_mae: 0.3647 - learning_rate: 0.0010\n",
            "Epoch 14/50\n",
            "\u001b[1m315/315\u001b[0m \u001b[32m━━━━━━━━━━━━━━━━━━━━\u001b[0m\u001b[37m\u001b[0m \u001b[1m6s\u001b[0m 18ms/step - loss: 0.3006 - mae: 0.3538 - val_loss: 0.3218 - val_mae: 0.3586 - learning_rate: 0.0010\n",
            "Epoch 15/50\n",
            "\u001b[1m315/315\u001b[0m \u001b[32m━━━━━━━━━━━━━━━━━━━━\u001b[0m\u001b[37m\u001b[0m \u001b[1m11s\u001b[0m 22ms/step - loss: 0.3064 - mae: 0.3555 - val_loss: 0.3156 - val_mae: 0.3454 - learning_rate: 5.0000e-04\n",
            "Epoch 16/50\n",
            "\u001b[1m315/315\u001b[0m \u001b[32m━━━━━━━━━━━━━━━━━━━━\u001b[0m\u001b[37m\u001b[0m \u001b[1m7s\u001b[0m 21ms/step - loss: 0.2927 - mae: 0.3465 - val_loss: 0.3143 - val_mae: 0.3505 - learning_rate: 5.0000e-04\n",
            "Epoch 17/50\n",
            "\u001b[1m315/315\u001b[0m \u001b[32m━━━━━━━━━━━━━━━━━━━━\u001b[0m\u001b[37m\u001b[0m \u001b[1m7s\u001b[0m 21ms/step - loss: 0.2980 - mae: 0.3509 - val_loss: 0.3197 - val_mae: 0.3523 - learning_rate: 5.0000e-04\n",
            "Epoch 18/50\n",
            "\u001b[1m315/315\u001b[0m \u001b[32m━━━━━━━━━━━━━━━━━━━━\u001b[0m\u001b[37m\u001b[0m \u001b[1m5s\u001b[0m 16ms/step - loss: 0.2819 - mae: 0.3418 - val_loss: 0.3144 - val_mae: 0.3478 - learning_rate: 5.0000e-04\n",
            "Epoch 19/50\n",
            "\u001b[1m315/315\u001b[0m \u001b[32m━━━━━━━━━━━━━━━━━━━━\u001b[0m\u001b[37m\u001b[0m \u001b[1m10s\u001b[0m 17ms/step - loss: 0.2786 - mae: 0.3391 - val_loss: 0.3151 - val_mae: 0.3465 - learning_rate: 2.5000e-04\n",
            "Epoch 20/50\n",
            "\u001b[1m315/315\u001b[0m \u001b[32m━━━━━━━━━━━━━━━━━━━━\u001b[0m\u001b[37m\u001b[0m \u001b[1m6s\u001b[0m 20ms/step - loss: 0.2982 - mae: 0.3480 - val_loss: 0.3153 - val_mae: 0.3511 - learning_rate: 2.5000e-04\n",
            "Epoch 21/50\n",
            "\u001b[1m315/315\u001b[0m \u001b[32m━━━━━━━━━━━━━━━━━━━━\u001b[0m\u001b[37m\u001b[0m \u001b[1m5s\u001b[0m 16ms/step - loss: 0.2883 - mae: 0.3478 - val_loss: 0.3149 - val_mae: 0.3449 - learning_rate: 1.2500e-04\n",
            "\u001b[1m79/79\u001b[0m \u001b[32m━━━━━━━━━━━━━━━━━━━━\u001b[0m\u001b[37m\u001b[0m \u001b[1m3s\u001b[0m 28ms/step\n"
          ]
        }
      ]
    },
    {
      "cell_type": "code",
      "source": [
        "# Final Evaluation\n",
        "y_test_pred = best_model.predict(X_test).flatten()\n",
        "y_test_pred_inv = y_scaler.inverse_transform(y_test_pred.reshape(-1, 1)).flatten()\n",
        "y_test_inv = y_scaler.inverse_transform(y_test.reshape(-1, 1)).flatten()\n",
        "\n",
        "print(\"\\n🎯 Final Test Set Evaluation:\")\n",
        "print(\"MAE:\", mean_absolute_error(y_test_inv, y_test_pred_inv))\n",
        "print(\"MSE:\", mean_squared_error(y_test_inv, y_test_pred_inv))\n",
        "print(\"R2:\", r2_score(y_test_inv, y_test_pred_inv))"
      ],
      "metadata": {
        "colab": {
          "base_uri": "https://localhost:8080/"
        },
        "id": "MTg9Fz03Jo5R",
        "outputId": "931134b0-ee97-4004-db97-cf2fee8b7794"
      },
      "execution_count": null,
      "outputs": [
        {
          "output_type": "stream",
          "name": "stdout",
          "text": [
            "\u001b[1m44/44\u001b[0m \u001b[32m━━━━━━━━━━━━━━━━━━━━\u001b[0m\u001b[37m\u001b[0m \u001b[1m0s\u001b[0m 6ms/step\n",
            "\n",
            "🎯 Final Test Set Evaluation:\n",
            "MAE: 31.87061567763246\n",
            "MSE: 2619.4853505288866\n",
            "R2: 0.6795731260636935\n"
          ]
        }
      ]
    }
  ]
}